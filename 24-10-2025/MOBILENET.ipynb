{
  "cells": [
    {
      "cell_type": "code",
      "execution_count": null,
      "metadata": {
        "colab": {
          "base_uri": "https://localhost:8080/"
        },
        "id": "1lrNcZFGNXbP",
        "outputId": "64789878-e382-407e-9489-e221ea61dd85"
      },
      "outputs": [
        {
          "output_type": "stream",
          "name": "stdout",
          "text": [
            "TensorFlow version: 2.19.0\n",
            "Downloading data from https://www.cs.toronto.edu/~kriz/cifar-10-python.tar.gz\n",
            "\u001b[1m170498071/170498071\u001b[0m \u001b[32m━━━━━━━━━━━━━━━━━━━━\u001b[0m\u001b[37m\u001b[0m \u001b[1m14s\u001b[0m 0us/step\n",
            "Downloading data from https://storage.googleapis.com/tensorflow/keras-applications/mobilenet_v2/mobilenet_v2_weights_tf_dim_ordering_tf_kernels_1.0_224_no_top.h5\n",
            "\u001b[1m9406464/9406464\u001b[0m \u001b[32m━━━━━━━━━━━━━━━━━━━━\u001b[0m\u001b[37m\u001b[0m \u001b[1m2s\u001b[0m 0us/step\n",
            "Training mobilenet50...\n",
            "Epoch 1/3\n",
            "\u001b[1m1563/1563\u001b[0m \u001b[32m━━━━━━━━━━━━━━━━━━━━\u001b[0m\u001b[37m\u001b[0m \u001b[1m94s\u001b[0m 48ms/step - accuracy: 0.5427 - loss: 1.3591 - val_accuracy: 0.7737 - val_loss: 0.6552\n",
            "Epoch 2/3\n",
            "\u001b[1m1563/1563\u001b[0m \u001b[32m━━━━━━━━━━━━━━━━━━━━\u001b[0m\u001b[37m\u001b[0m \u001b[1m57s\u001b[0m 36ms/step - accuracy: 0.7523 - loss: 0.7207 - val_accuracy: 0.7943 - val_loss: 0.5886\n",
            "Epoch 3/3\n",
            "\u001b[1m1563/1563\u001b[0m \u001b[32m━━━━━━━━━━━━━━━━━━━━\u001b[0m\u001b[37m\u001b[0m \u001b[1m82s\u001b[0m 36ms/step - accuracy: 0.7804 - loss: 0.6378 - val_accuracy: 0.8022 - val_loss: 0.5571\n",
            "Fine-tuning mobilenet50...\n",
            "Epoch 1/2\n",
            "\u001b[1m1563/1563\u001b[0m \u001b[32m━━━━━━━━━━━━━━━━━━━━\u001b[0m\u001b[37m\u001b[0m \u001b[1m100s\u001b[0m 53ms/step - accuracy: 0.7143 - loss: 0.8375 - val_accuracy: 0.8226 - val_loss: 0.5110\n",
            "Epoch 2/2\n",
            "\u001b[1m1563/1563\u001b[0m \u001b[32m━━━━━━━━━━━━━━━━━━━━\u001b[0m\u001b[37m\u001b[0m \u001b[1m69s\u001b[0m 44ms/step - accuracy: 0.8162 - loss: 0.5374 - val_accuracy: 0.8415 - val_loss: 0.4547\n"
          ]
        },
        {
          "output_type": "execute_result",
          "data": {
            "text/plain": [
              "<keras.src.callbacks.history.History at 0x7d7148e08920>"
            ]
          },
          "metadata": {},
          "execution_count": 1
        }
      ],
      "source": [
        "# -------------------------------------\n",
        "# 1. Setup (Colab has TF pre-installed)\n",
        "# -------------------------------------\n",
        "import tensorflow as tf\n",
        "from tensorflow.keras import layers, models\n",
        "\n",
        "print(\"TensorFlow version:\", tf.__version__)\n",
        "\n",
        "# -------------------------------------\n",
        "# 2. Load a sample dataset (replace with your own)\n",
        "# Colab provides tf.keras.datasets, here we use CIFAR-10 for demo\n",
        "# -------------------------------------\n",
        "(x_train, y_train), (x_val, y_val) = tf.keras.datasets.cifar10.load_data()\n",
        "\n",
        "# Normalize images\n",
        "x_train = x_train.astype(\"float32\") / 255.0\n",
        "x_val = x_val.astype(\"float32\") / 255.0\n",
        "\n",
        "# Resize images to 224x224 (needed for mobilenet/MobileNet)\n",
        "resize_layer = tf.keras.Sequential([\n",
        "    layers.Resizing(224, 224)\n",
        "])\n",
        "\n",
        "train_ds = tf.data.Dataset.from_tensor_slices((x_train, y_train)).batch(32).map(lambda x, y: (resize_layer(x), y))\n",
        "val_ds = tf.data.Dataset.from_tensor_slices((x_val, y_val)).batch(32).map(lambda x, y: (resize_layer(x), y))\n",
        "\n",
        "# -------------------------------------\n",
        "# 3. Transfer Learning with mobilenet50\n",
        "# -------------------------------------\n",
        "base_mobilenet = tf.keras.applications.MobileNetV2(\n",
        "    weights=\"imagenet\",\n",
        "    include_top=False,\n",
        "    input_shape=(224, 224, 3)\n",
        ")\n",
        "\n",
        "base_mobilenet.trainable = False  # freeze backbone\n",
        "mobilenet_model = models.Sequential([\n",
        "    base_mobilenet,\n",
        "    layers.GlobalAveragePooling2D(),\n",
        "    layers.Dense(256, activation=\"relu\"),\n",
        "    layers.Dropout(0.5),\n",
        "    layers.Dense(10, activation=\"softmax\")  # CIFAR-10 has 10 classes\n",
        "])\n",
        "\n",
        "mobilenet_model.compile(\n",
        "    optimizer=tf.keras.optimizers.Adam(1e-4),\n",
        "    loss=\"sparse_categorical_crossentropy\",\n",
        "    metrics=[\"accuracy\"]\n",
        ")\n",
        "\n",
        "print(\"Training mobilenet50...\")\n",
        "mobilenet_model.fit(train_ds, validation_data=val_ds, epochs=3)\n",
        "\n",
        "# -------------------------------------\n",
        "# 4. Fine-tuning (optional: unfreeze last few layers)\n",
        "# -------------------------------------\n",
        "base_mobilenet.trainable = True\n",
        "for layer in base_mobilenet.layers[:-30]:\n",
        "    layer.trainable = False\n",
        "\n",
        "mobilenet_model.compile(\n",
        "    optimizer=tf.keras.optimizers.Adam(1e-5),  # lower LR\n",
        "    loss=\"sparse_categorical_crossentropy\",\n",
        "    metrics=[\"accuracy\"]\n",
        ")\n",
        "\n",
        "print(\"Fine-tuning mobilenet50...\")\n",
        "mobilenet_model.fit(train_ds, validation_data=val_ds, epochs=2)"
      ]
    },
    {
      "cell_type": "code",
      "execution_count": null,
      "metadata": {
        "colab": {
          "base_uri": "https://localhost:8080/"
        },
        "id": "Hv2i3UnDVjdQ",
        "outputId": "33b4bf8d-542f-47a7-e94b-fe9495984498"
      },
      "outputs": [
        {
          "name": "stdout",
          "output_type": "stream",
          "text": [
            "\u001b[1m1/1\u001b[0m \u001b[32m━━━━━━━━━━━━━━━━━━━━\u001b[0m\u001b[37m\u001b[0m \u001b[1m11s\u001b[0m 11s/step\n",
            "Predicted class: 3\n"
          ]
        }
      ],
      "source": [
        "import numpy as np\n",
        "from tensorflow.keras.preprocessing import image\n",
        "\n",
        "img_path = \"/content/cat.jpg\"\n",
        "img = image.load_img(img_path, target_size=(224, 224))\n",
        "img_array = image.img_to_array(img) / 255.0\n",
        "img_array = np.expand_dims(img_array, axis=0) # batch dimension\n",
        "\n",
        "pred_probs = mobilenet_model.predict(img_array)\n",
        "pred_class = np.argmax(pred_probs, axis=1)[0]\n",
        "\n",
        "print(\"Predicted class:\", pred_class)"
      ]
    }
  ],
  "metadata": {
    "accelerator": "GPU",
    "colab": {
      "gpuType": "T4",
      "provenance": []
    },
    "kernelspec": {
      "display_name": "Python 3",
      "name": "python3"
    },
    "language_info": {
      "name": "python"
    }
  },
  "nbformat": 4,
  "nbformat_minor": 0
}